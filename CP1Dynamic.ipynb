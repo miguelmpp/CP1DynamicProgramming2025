{
 "cells": [
  {
   "cell_type": "code",
   "execution_count": 9,
   "metadata": {},
   "outputs": [
    {
     "name": "stdout",
     "output_type": "stream",
     "text": [
      "Equipamentos pendentes: [101, 103, 105, 108]\n",
      "Equipamentos concluídos: [102, 104, 106, 107]\n"
     ]
    }
   ],
   "source": [
    "# Matheus Farias de Lima RM554254 \n",
    "# Miguel Parrado RM554007\n",
    "\n",
    "def separar_equipamentos(codigos, status):\n",
    "    pendentes = []\n",
    "    concluidos = []\n",
    "    \n",
    "    for i in range(len(codigos)):\n",
    "        if status[i] == 0:\n",
    "            pendentes.append(codigos[i])\n",
    "        else:\n",
    "            concluidos.append(codigos[i])\n",
    "    \n",
    "    return pendentes, concluidos\n",
    "\n",
    "# Dados fornecidos\n",
    "codigos_equipamentos = [101, 102, 103, 104, 105, 106, 107, 108]\n",
    "status_manutencao = [0, 1, 0, 1, 0, 1, 1, 0]\n",
    "\n",
    "# Chamada da função\n",
    "pendentes, concluidos = separar_equipamentos(codigos_equipamentos, status_manutencao)\n",
    "\n",
    "print(\"Equipamentos pendentes:\", pendentes)\n",
    "print(\"Equipamentos concluídos:\", concluidos)\n"
   ]
  },
  {
   "cell_type": "code",
   "execution_count": 10,
   "metadata": {},
   "outputs": [
    {
     "name": "stdout",
     "output_type": "stream",
     "text": [
      "Status inválido! Tente novamente.\n",
      "\n",
      "Produtos Aprovados: [100, 105, 107, 109]\n",
      "Produtos Reprovados: [101, 104]\n",
      "Produtos Pendentes: [102, 103, 106]\n"
     ]
    }
   ],
   "source": [
    "# Matheus Farias de Lima RM554254 \n",
    "# Miguel Parrado RM554007\n",
    "\n",
    "def classificar_produtos():\n",
    "    produtos_aprovados = []\n",
    "    produtos_reprovados = []\n",
    "    produtos_pendentes = []\n",
    "    \n",
    "    for _ in range(10):  # Coletar dados de 10 produtos\n",
    "        numero_serie = int(input(\"Digite o número de série do produto: \"))\n",
    "        status = int(input(\"Digite o status do produto (1 = aprovado, 0 = reprovado, -1 = pendente): \"))\n",
    "        \n",
    "        if status == 1:\n",
    "            produtos_aprovados.append(numero_serie)\n",
    "        elif status == 0:\n",
    "            produtos_reprovados.append(numero_serie)\n",
    "        elif status == -1:\n",
    "            produtos_pendentes.append(numero_serie)\n",
    "        else:\n",
    "            print(\"Status inválido! Tente novamente.\")\n",
    "    \n",
    "    return produtos_aprovados, produtos_reprovados, produtos_pendentes\n",
    "\n",
    "# Chamada da função\n",
    "aprovados, reprovados, pendentes = classificar_produtos()\n",
    "\n",
    "# Exibir resultados\n",
    "print(\"\\nProdutos Aprovados:\", aprovados)\n",
    "print(\"Produtos Reprovados:\", reprovados)\n",
    "print(\"Produtos Pendentes:\", pendentes)\n"
   ]
  }
 ],
 "metadata": {
  "kernelspec": {
   "display_name": "Python 3",
   "language": "python",
   "name": "python3"
  },
  "language_info": {
   "codemirror_mode": {
    "name": "ipython",
    "version": 3
   },
   "file_extension": ".py",
   "mimetype": "text/x-python",
   "name": "python",
   "nbconvert_exporter": "python",
   "pygments_lexer": "ipython3",
   "version": "3.11.5"
  },
  "orig_nbformat": 4
 },
 "nbformat": 4,
 "nbformat_minor": 2
}
